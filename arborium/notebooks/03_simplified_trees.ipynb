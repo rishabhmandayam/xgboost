{
 "cells": [
  {
   "cell_type": "markdown",
   "metadata": {},
   "source": [
    "# Arborium: Simplified Tree Representations\n",
    "\n",
    "This notebook demonstrates how to use Arborium to create simplified tree representations of complex XGBoost models. This can be especially useful for understanding and explaining models with many trees and deep structures.\n",
    "\n",
    "## Installation\n",
    "\n",
    "If you're running this notebook in Colab or outside the arborium repository, uncomment and run the following cell to install the package:"
   ]
  },
  {
   "cell_type": "code",
   "execution_count": null,
   "metadata": {},
   "outputs": [],
   "source": [
    "# Uncomment if running in Colab or if you haven't installed arborium yet\n",
    "# !pip install arborium[xgboost]"
   ]
  },
  {
   "cell_type": "markdown",
   "metadata": {},
   "source": [
    "## Importing Libraries\n",
    "\n",
    "First, let's import the necessary libraries:"
   ]
  },
  {
   "cell_type": "code",
   "execution_count": null,
   "metadata": {},
   "outputs": [],
   "source": [
    "from arborium import XGBTreeVisualizer\n",
    "from sklearn.datasets import load_iris\n",
    "import xgboost as xgb\n",
    "import numpy as np"
   ]
  },
  {
   "cell_type": "markdown",
   "metadata": {},
   "source": [
    "## Loading and Preparing Data\n",
    "\n",
    "We'll use the California Housing dataset for this example, which has more samples and features than our previous examples:"
   ]
  },
  {
   "cell_type": "code",
   "execution_count": null,
   "metadata": {},
   "outputs": [],
   "source": [
    "iris = load_iris()\n",
    "X, y = iris.data, iris.target\n",
    "\n",
    "# Create DMatrix for XGBoost\n",
    "dtrain = xgb.DMatrix(X, label=y)"
   ]
  },
  {
   "cell_type": "markdown",
   "metadata": {},
   "source": [
    "## Training a Complex XGBoost Model\n",
    "\n",
    "Let's train a more complex XGBoost model with many trees and deep structure:"
   ]
  },
  {
   "cell_type": "code",
   "execution_count": null,
   "metadata": {},
   "outputs": [],
   "source": [
    "# Set parameters for XGBoost\n",
    "params = {\n",
    "    'objective': 'multi:softmax',  # multiclass classification\n",
    "    'num_class': 3,  # iris has 3 classes\n",
    "    'max_depth': None,\n",
    "    'learning_rate': 0.1,\n",
    "    'eval_metric': 'mlogloss'\n",
    "}\n",
    "\n",
    "# Train XGBoost model\n",
    "num_rounds = 300\n",
    "model = xgb.train(params, dtrain, num_rounds)"
   ]
  },
  {
   "cell_type": "markdown",
   "metadata": {},
   "source": [
    "## Creating a Visualizer\n",
    "\n",
    "Now, let's create an Arborium visualizer for the model:"
   ]
  },
  {
   "cell_type": "code",
   "execution_count": null,
   "metadata": {},
   "outputs": [],
   "source": [
    "# Create a visualizer\n",
    "visualizer = XGBTreeVisualizer(model, X, y, feature_names=iris.feature_names, target_names=iris.target_names)\n",
    "visualizer.show_tree()"
   ]
  },
  {
   "cell_type": "markdown",
   "metadata": {},
   "source": [
    "As you can see, individual trees in this complex model can be quite deep and hard to interpret. This is where simplified trees come in handy."
   ]
  },
  {
   "cell_type": "markdown",
   "metadata": {},
   "source": [
    "## Creating a Simplified Tree Representation\n",
    "\n",
    "Arborium can create a simplified decision tree that approximates the behavior of the entire ensemble:"
   ]
  },
  {
   "cell_type": "code",
   "execution_count": null,
   "metadata": {},
   "outputs": [],
   "source": [
    "# Show a simplified representation of the entire model\n",
    "simplified_tree = visualizer.show_simplified_tree(\n",
    "    max_depth=3,              # Control the depth of the simplified tree\n",
    "    n_components=None,        # Use all features (no dimensionality reduction)\n",
    "    n_samples=5000            # Use 5000 samples to build the simplified model\n",
    ")"
   ]
  },
  {
   "cell_type": "markdown",
   "metadata": {},
   "source": [
    "## Using the Simplified Model for Predictions\n",
    "\n",
    "The simplified model can also be used to make predictions. Let's see how it compares to the full model:"
   ]
  },
  {
   "cell_type": "code",
   "execution_count": null,
   "metadata": {},
   "outputs": [],
   "source": [
    "# Get predictions from the full XGBoost model\n",
    "y_pred_xgb = model.predict(X)\n",
    "y_pred_xgb_classes = np.argmax(y_pred_xgb, axis=1)\n",
    "xgb_accuracy = np.mean(y_pred_xgb_classes == y)\n",
    "print(f\"XGBoost model accuracy: {xgb_accuracy:.4f}\")\n",
    "\n",
    "# Get predictions from the simplified tree model\n",
    "simplified_model = visualizer.get_simplified_model()\n",
    "y_pred_simplified = simplified_model.predict(X)\n",
    "simplified_accuracy = np.mean(y_pred_simplified == y)\n",
    "print(f\"Simplified tree model accuracy: {simplified_accuracy:.4f}\")\n",
    "\n"
   ]
  },
  {
   "cell_type": "markdown",
   "metadata": {},
   "source": [
    "## Experimenting with Different Simplification Parameters\n",
    "\n",
    "Let's try different parameters for the simplified tree:"
   ]
  },
  {
   "cell_type": "code",
   "execution_count": null,
   "metadata": {},
   "outputs": [],
   "source": [
    "# Try a deeper simplified tree\n",
    "deeper_tree = visualizer.show_simplified_tree(\n",
    "    max_depth=None,\n",
    "    n_samples=5000\n",
    ")"
   ]
  },
  {
   "cell_type": "code",
   "execution_count": null,
   "metadata": {},
   "outputs": [],
   "source": [
    "# Try with dimensionality reduction\n",
    "small_tree = visualizer.show_simplified_tree(\n",
    "    max_depth=3,\n",
    "    n_components=2,\n",
    "    n_samples=5000\n",
    ")"
   ]
  },
  {
   "cell_type": "markdown",
   "metadata": {},
   "source": [
    "## Getting the Simplified Model\n",
    "\n",
    "You can also access the simplified model directly, which is a scikit-learn decision tree:"
   ]
  },
  {
   "cell_type": "code",
   "execution_count": null,
   "metadata": {},
   "outputs": [],
   "source": [
    "# Get the most recently created simplified model\n",
    "dt_model = visualizer.get_simplified_model()\n",
    "\n",
    "# Show information about the model\n",
    "print(f\"Type: {type(dt_model).__name__}\")\n",
    "print(f\"Max depth: {dt_model.max_depth}\")\n",
    "print(f\"Number of leaves: {dt_model.get_n_leaves()}\")"
   ]
  },
  {
   "cell_type": "markdown",
   "metadata": {},
   "source": [
    "## Conclusion\n",
    "\n",
    "You've now learned how to use Arborium to create simplified tree representations of complex XGBoost models. These simplified trees can help with:\n",
    "\n",
    "1. Model interpretation and explanation\n",
    "2. Understanding the most important features and decision rules\n",
    "3. Creating approximate but more interpretable models\n",
    "\n",
    "While simplified trees sacrifice some performance compared to the full ensemble, they provide valuable insights into how the model makes predictions, which can be crucial for explaining model behavior to stakeholders or debugging model issues."
   ]
  }
 ],
 "metadata": {
  "kernelspec": {
   "display_name": "Python 3",
   "language": "python",
   "name": "python3"
  },
  "language_info": {
   "codemirror_mode": {
    "name": "ipython",
    "version": 3
   },
   "file_extension": ".py",
   "mimetype": "text/x-python",
   "name": "python",
   "nbconvert_exporter": "python",
   "pygments_lexer": "ipython3",
   "version": "3.8.8"
  }
 },
 "nbformat": 4,
 "nbformat_minor": 4
}
