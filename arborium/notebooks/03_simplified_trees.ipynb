{
 "cells": [
  {
   "cell_type": "markdown",
   "metadata": {},
   "source": [
    "# Arborium: Simplified Tree Representations\n",
    "\n",
    "This notebook demonstrates how to use Arborium to create simplified tree representations of complex XGBoost models. This can be especially useful for understanding and explaining models with many trees and deep structures.\n",
    "\n",
    "## Installation\n",
    "\n",
    "If you're running this notebook in Colab or outside the arborium repository, uncomment and run the following cell to install the package:"
   ]
  },
  {
   "cell_type": "code",
   "execution_count": null,
   "metadata": {},
   "source": [
    "# Uncomment if running in Colab or if you haven't installed arborium yet\n",
    "# !pip install arborium[xgboost]"
   ]
  },
  {
   "cell_type": "markdown",
   "metadata": {},
   "source": [
    "## Importing Libraries\n",
    "\n",
    "First, let's import the necessary libraries:"
   ]
  },
  {
   "cell_type": "code",
   "execution_count": null,
   "metadata": {},
   "source": [
    "from arborium import XGBTreeVisualizer\n",
    "import xgboost as xgb\n",
    "import numpy as np\n",
    "from sklearn.datasets import fetch_california_housing\n",
    "from sklearn.model_selection import train_test_split\n",
    "from sklearn.metrics import mean_squared_error"
   ]
  },
  {
   "cell_type": "markdown",
   "metadata": {},
   "source": [
    "## Loading and Preparing Data\n",
    "\n",
    "We'll use the California Housing dataset for this example, which has more samples and features than our previous examples:"
   ]
  },
  {
   "cell_type": "code",
   "execution_count": null,
   "metadata": {},
   "source": [
    "# Load a large dataset\n",
    "housing = fetch_california_housing()\n",
    "X, y = housing.data, housing.target\n",
    "feature_names = housing.feature_names\n",
    "\n",
    "# Split the data for evaluation\n",
    "X_train, X_test, y_train, y_test = train_test_split(X, y, test_size=0.2, random_state=42)\n",
    "\n",
    "# Take a quick look at our data\n",
    "print(f\"Number of samples: {X.shape[0]}\")\n",
    "print(f\"Number of features: {X.shape[1]}\")\n",
    "print(f\"Feature names: {feature_names}\")"
   ]
  },
  {
   "cell_type": "markdown",
   "metadata": {},
   "source": [
    "## Training a Complex XGBoost Model\n",
    "\n",
    "Let's train a more complex XGBoost model with many trees and deep structure:"
   ]
  },
  {
   "cell_type": "code",
   "execution_count": null,
   "metadata": {},
   "source": [
    "# Train a complex model\n",
    "model = xgb.XGBRegressor(n_estimators=100, max_depth=8)\n",
    "model.fit(X_train, y_train)\n",
    "\n",
    "# Check model performance\n",
    "y_pred = model.predict(X_test)\n",
    "rmse = np.sqrt(mean_squared_error(y_test, y_pred))\n",
    "print(f\"Model trained with {model.n_estimators} trees of max depth {model.max_depth}\")\n",
    "print(f\"Test RMSE: {rmse:.4f}\")"
   ]
  },
  {
   "cell_type": "markdown",
   "metadata": {},
   "source": [
    "## Creating a Visualizer\n",
    "\n",
    "Now, let's create an Arborium visualizer for the model:"
   ]
  },
  {
   "cell_type": "code",
   "execution_count": null,
   "metadata": {},
   "source": [
    "# Create a visualizer\n",
    "visualizer = XGBTreeVisualizer(model, X_train, y_train, feature_names=feature_names)"
   ]
  },
  {
   "cell_type": "markdown",
   "metadata": {},
   "source": [
    "## Visualizing a Regular Tree\n",
    "\n",
    "Let's first look at one of the regular trees in the model:"
   ]
  },
  {
   "cell_type": "code",
   "execution_count": null,
   "metadata": {},
   "source": [
    "# Show a regular tree (the 10th tree)\n",
    "visualizer.show_tree(9)"
   ]
  },
  {
   "cell_type": "markdown",
   "metadata": {},
   "source": [
    "As you can see, individual trees in this complex model can be quite deep and hard to interpret. This is where simplified trees come in handy."
   ]
  },
  {
   "cell_type": "markdown",
   "metadata": {},
   "source": [
    "## Creating a Simplified Tree Representation\n",
    "\n",
    "Arborium can create a simplified decision tree that approximates the behavior of the entire ensemble:"
   ]
  },
  {
   "cell_type": "code",
   "execution_count": null,
   "metadata": {},
   "source": [
    "# Show a simplified representation of the entire model\n",
    "simplified_tree = visualizer.show_simplified_tree(\n",
    "    max_depth=3,              # Control the depth of the simplified tree\n",
    "    n_components=None,        # Use all features (no dimensionality reduction)\n",
    "    n_samples=5000            # Use 5000 samples to build the simplified model\n",
    ")"
   ]
  },
  {
   "cell_type": "markdown",
   "metadata": {},
   "source": [
    "## Using the Simplified Model for Predictions\n",
    "\n",
    "The simplified model can also be used to make predictions. Let's see how it compares to the full model:"
   ]
  },
  {
   "cell_type": "code",
   "execution_count": null,
   "metadata": {},
   "source": [
    "# Use the simplified model for predictions on the test set\n",
    "simplified_predictions = visualizer.predict_with_simplified_tree(X_test)\n",
    "\n",
    "# Compare with the full model\n",
    "full_predictions = model.predict(X_test)\n",
    "\n",
    "# Calculate metrics\n",
    "simplified_rmse = np.sqrt(mean_squared_error(y_test, simplified_predictions))\n",
    "full_rmse = np.sqrt(mean_squared_error(y_test, full_predictions))\n",
    "\n",
    "print(f\"Full model RMSE: {full_rmse:.4f}\")\n",
    "print(f\"Simplified model RMSE: {simplified_rmse:.4f}\")\n",
    "print(f\"Performance difference: {((simplified_rmse - full_rmse) / full_rmse * 100):.2f}%\")"
   ]
  },
  {
   "cell_type": "markdown",
   "metadata": {},
   "source": [
    "## Experimenting with Different Simplification Parameters\n",
    "\n",
    "Let's try different parameters for the simplified tree:"
   ]
  },
  {
   "cell_type": "code",
   "execution_count": null,
   "metadata": {},
   "source": [
    "# Try a deeper simplified tree\n",
    "deeper_tree = visualizer.show_simplified_tree(\n",
    "    max_depth=5,\n",
    "    n_samples=5000\n",
    ")"
   ]
  },
  {
   "cell_type": "code",
   "execution_count": null,
   "metadata": {},
   "source": [
    "# Try with dimensionality reduction\n",
    "pca_tree = visualizer.show_simplified_tree(\n",
    "    max_depth=3,\n",
    "    n_components=4,  # Reduce to 4 principal components\n",
    "    n_samples=5000\n",
    ")"
   ]
  },
  {
   "cell_type": "markdown",
   "metadata": {},
   "source": [
    "## Getting the Simplified Model\n",
    "\n",
    "You can also access the simplified model directly, which is a scikit-learn decision tree:"
   ]
  },
  {
   "cell_type": "code",
   "execution_count": null,
   "metadata": {},
   "source": [
    "# Get the most recently created simplified model\n",
    "dt_model = visualizer.get_simplified_model()\n",
    "\n",
    "# Show information about the model\n",
    "print(f\"Type: {type(dt_model).__name__}\")\n",
    "print(f\"Max depth: {dt_model.max_depth}\")\n",
    "print(f\"Number of leaves: {dt_model.get_n_leaves()}\")"
   ]
  },
  {
   "cell_type": "markdown",
   "metadata": {},
   "source": [
    "## Conclusion\n",
    "\n",
    "You've now learned how to use Arborium to create simplified tree representations of complex XGBoost models. These simplified trees can help with:\n",
    "\n",
    "1. Model interpretation and explanation\n",
    "2. Understanding the most important features and decision rules\n",
    "3. Creating approximate but more interpretable models\n",
    "\n",
    "While simplified trees sacrifice some performance compared to the full ensemble, they provide valuable insights into how the model makes predictions, which can be crucial for explaining model behavior to stakeholders or debugging model issues."
   ]
  }
 ],
 "metadata": {
  "kernelspec": {
   "display_name": "Python 3",
   "language": "python",
   "name": "python3"
  },
  "language_info": {
   "codemirror_mode": {
    "name": "ipython",
    "version": 3
   },
   "file_extension": ".py",
   "mimetype": "text/x-python",
   "name": "python",
   "nbconvert_exporter": "python",
   "pygments_lexer": "ipython3",
   "version": "3.8.8"
  }
 },
 "nbformat": 4,
 "nbformat_minor": 4
} 
