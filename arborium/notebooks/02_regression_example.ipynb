{
 "cells": [
  {
   "cell_type": "markdown",
   "metadata": {},
   "source": [
    "# Arborium: Regression Example\n",
    "\n",
    "This notebook demonstrates how to use Arborium to visualize trees in regression models.\n",
    "\n",
    "## Installation\n",
    "\n",
    "If you're running this notebook in Colab or outside the arborium repository, uncomment and run the following cell to install the package:"
   ]
  },
  {
   "cell_type": "code",
   "execution_count": null,
   "metadata": {},
   "outputs": [],
   "source": [
    "# Uncomment if running in Colab or if you haven't installed arborium yet\n",
    "# !pip install arborium[xgboost]"
   ]
  },
  {
   "cell_type": "markdown",
   "metadata": {},
   "source": [
    "## Importing Libraries\n",
    "\n",
    "First, let's import the necessary libraries:"
   ]
  },
  {
   "cell_type": "code",
   "execution_count": null,
   "metadata": {},
   "outputs": [],
   "source": [
    "from arborium import XGBTreeVisualizer\n",
    "import numpy as np\n",
    "import xgboost as xgb\n",
    "from sklearn.datasets import load_iris"
   ]
  },
  {
   "cell_type": "markdown",
   "metadata": {},
   "source": [
    "## Loading and Preparing Data\n",
    "\n",
    "For multi-class classification, we'll use the classic Iris dataset:"
   ]
  },
  {
   "cell_type": "code",
   "execution_count": null,
   "metadata": {},
   "outputs": [],
   "source": [
    "# Load a multi-class dataset\n",
    "iris = load_iris()\n",
    "X, y = iris.data, iris.target\n",
    "feature_names = iris.feature_names\n",
    "target_names = iris.target_names\n",
    "\n",
    "# Take a quick look at our data\n",
    "print(f\"Number of samples: {X.shape[0]}\")\n",
    "print(f\"Number of features: {X.shape[1]}\")\n",
    "print(f\"Feature names: {feature_names}\")\n",
    "print(f\"Target classes: {target_names}\")"
   ]
  },
  {
   "cell_type": "markdown",
   "metadata": {},
   "source": [
    "## Training a Multi-Class XGBoost Model\n",
    "\n",
    "Now, let's train an XGBoost classifier for this multi-class problem:"
   ]
  },
  {
   "cell_type": "code",
   "execution_count": null,
   "metadata": {},
   "outputs": [],
   "source": [
    "# Train a multi-class model\n",
    "model = xgb.XGBClassifier(n_estimators=30, max_depth=3)\n",
    "model.fit(X, y)\n",
    "\n",
    "print(f\"Model trained with {model.n_estimators} trees of max depth {model.max_depth}\")"
   ]
  },
  {
   "cell_type": "markdown",
   "metadata": {},
   "source": [
    "## Visualizing the Trees with Class Information\n",
    "\n",
    "For multi-class problems, XGBoost creates separate trees for each class. Arborium can show which trees correspond to which classes:"
   ]
  },
  {
   "cell_type": "code",
   "execution_count": null,
   "metadata": {},
   "outputs": [],
   "source": [
    "# Create a visualizer with target names\n",
    "visualizer = XGBTreeVisualizer(model, X, y, \n",
    "                              feature_names=feature_names,\n",
    "                              target_names=target_names)\n",
    "\n",
    "# Show the trees\n",
    "visualizer.show_tree()"
   ]
  },
  {
   "cell_type": "markdown",
   "metadata": {},
   "source": [
    "## Exploring Trees for Specific Classes\n",
    "\n",
    "You can also view trees associated with specific classes:"
   ]
  },
  {
   "cell_type": "code",
   "execution_count": null,
   "metadata": {},
   "outputs": [],
   "source": [
    "# Show a tree for the second class (versicolor)\n",
    "# In multi-class XGBoost models, trees are organized by class in rounds\n",
    "visualizer.show_tree(1)  # Tree index 1 should correspond to the second class"
   ]
  },
  {
   "cell_type": "markdown",
   "metadata": {},
   "source": [
    "## Understanding Multi-Class Tree Structure\n",
    "\n",
    "In multi-class XGBoost models:\n",
    "- For K classes, each boosting round produces K trees (one per class)\n",
    "- Trees are indexed as: round*num_classes + class_idx\n",
    "- The class information is displayed in the tree header"
   ]
  },
  {
   "cell_type": "code",
   "execution_count": null,
   "metadata": {},
   "outputs": [],
   "source": [
    "# Get the number of classes in our model\n",
    "num_classes = len(target_names)\n",
    "print(f\"Number of classes: {num_classes}\")\n",
    "print(f\"Total number of trees: {model.n_estimators * num_classes}\")\n",
    "\n",
    "# Let's see a tree from a later round\n",
    "# This will be for class 0 (setosa) in the 5th round\n",
    "tree_idx = 5 * num_classes + 0\n",
    "visualizer.show_tree(tree_idx)"
   ]
  },
  {
   "cell_type": "markdown",
   "metadata": {},
   "source": [
    "## Conclusion\n",
    "\n",
    "You've now learned how to use Arborium to visualize trees in multi-class XGBoost models. The visualizations help you understand how the model distinguishes between different classes and what features are most important for each class.\n",
    "\n",
    "In the next example, we'll explore how to create simplified tree representations of complex models."
   ]
  }
 ],
 "metadata": {
  "kernelspec": {
   "display_name": "Python 3",
   "language": "python",
   "name": "python3"
  },
  "language_info": {
   "codemirror_mode": {
    "name": "ipython",
    "version": 3
   },
   "file_extension": ".py",
   "mimetype": "text/x-python",
   "name": "python",
   "nbconvert_exporter": "python",
   "pygments_lexer": "ipython3",
   "version": "3.8.8"
  }
 },
 "nbformat": 4,
 "nbformat_minor": 4
}
