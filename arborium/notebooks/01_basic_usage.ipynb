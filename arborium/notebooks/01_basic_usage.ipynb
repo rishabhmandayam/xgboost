{
 "cells": [
  {
   "cell_type": "markdown",
   "metadata": {},
   "source": [
    "# Arborium: Basic Usage\n",
    "\n",
    "This notebook demonstrates the basic usage of the Arborium package for visualizing XGBoost tree models.\n",
    "\n",
    "## Installation\n",
    "\n",
    "If you're running this notebook in Colab or outside the arborium repository, uncomment and run the following cell to install the package:"
   ]
  },
  {
   "cell_type": "code",
   "execution_count": null,
   "metadata": {},
   "source": [
    "# Uncomment if running in Colab or if you haven't installed arborium yet\n",
    "# !pip install arborium[xgboost]"
   ]
  },
  {
   "cell_type": "markdown",
   "metadata": {},
   "source": [
    "## Importing Libraries\n",
    "\n",
    "First, let's import the necessary libraries:"
   ]
  },
  {
   "cell_type": "code",
   "execution_count": null,
   "metadata": {},
   "source": [
    "import xgboost as xgb\n",
    "from arborium import XGBTreeVisualizer\n",
    "import numpy as np\n",
    "from sklearn.datasets import load_breast_cancer"
   ]
  },
  {
   "cell_type": "markdown",
   "metadata": {},
   "source": [
    "## Loading and Preparing Data\n",
    "\n",
    "We'll use the breast cancer dataset from scikit-learn for this example:"
   ]
  },
  {
   "cell_type": "code",
   "execution_count": null,
   "metadata": {},
   "source": [
    "# Load a dataset\n",
    "data = load_breast_cancer()\n",
    "X, y = data.data, data.target\n",
    "feature_names = data.feature_names\n",
    "\n",
    "# Take a quick look at our data\n",
    "print(f\"Number of samples: {X.shape[0]}\")\n",
    "print(f\"Number of features: {X.shape[1]}\")\n",
    "print(f\"Feature names: {feature_names[:5]}...\")\n",
    "print(f\"Target classes: {np.unique(y)}\")"
   ]
  },
  {
   "cell_type": "markdown",
   "metadata": {},
   "source": [
    "## Training an XGBoost Model\n",
    "\n",
    "Now, let's train a simple XGBoost classifier:"
   ]
  },
  {
   "cell_type": "code",
   "execution_count": null,
   "metadata": {},
   "source": [
    "# Train a simple XGBoost model\n",
    "model = xgb.XGBClassifier(n_estimators=10, max_depth=3)\n",
    "model.fit(X, y)\n",
    "\n",
    "print(f\"Model trained with {model.n_estimators} trees of max depth {model.max_depth}\")"
   ]
  },
  {
   "cell_type": "markdown",
   "metadata": {},
   "source": [
    "## Visualizing the Trees\n",
    "\n",
    "Now for the exciting part! Let's visualize the trees using Arborium:"
   ]
  },
  {
   "cell_type": "code",
   "execution_count": null,
   "metadata": {},
   "source": [
    "# Create the visualizer\n",
    "visualizer = XGBTreeVisualizer(model, X, y, feature_names=feature_names)\n",
    "\n",
    "# Show the first tree\n",
    "visualizer.show_tree(0)"
   ]
  },
  {
   "cell_type": "markdown",
   "metadata": {},
   "source": [
    "## Exploring Other Trees\n",
    "\n",
    "You can explore other trees in the model by changing the tree index:"
   ]
  },
  {
   "cell_type": "code",
   "execution_count": null,
   "metadata": {},
   "source": [
    "# Show the third tree\n",
    "visualizer.show_tree(2)"
   ]
  },
  {
   "cell_type": "markdown",
   "metadata": {},
   "source": [
    "## Conclusion\n",
    "\n",
    "You've now learned how to use Arborium to visualize XGBoost trees. The interactive visualization allows you to explore the tree structure, see the split conditions, and understand how features are used in the model's decision-making process.\n",
    "\n",
    "In the next examples, we'll explore more advanced features like multi-class models and simplified tree representations."
   ]
  }
 ],
 "metadata": {
  "kernelspec": {
   "display_name": "Python 3",
   "language": "python",
   "name": "python3"
  },
  "language_info": {
   "codemirror_mode": {
    "name": "ipython",
    "version": 3
   },
   "file_extension": ".py",
   "mimetype": "text/x-python",
   "name": "python",
   "nbconvert_exporter": "python",
   "pygments_lexer": "ipython3",
   "version": "3.8.8"
  }
 },
 "nbformat": 4,
 "nbformat_minor": 4
} 
